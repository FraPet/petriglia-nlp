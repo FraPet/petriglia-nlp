{
  "nbformat": 4,
  "nbformat_minor": 0,
  "metadata": {
    "colab": {
      "provenance": [],
      "gpuType": "T4",
      "include_colab_link": true
    },
    "kernelspec": {
      "name": "python3",
      "display_name": "Python 3"
    },
    "language_info": {
      "name": "python"
    },
    "accelerator": "GPU"
  },
  "cells": [
    {
      "cell_type": "markdown",
      "metadata": {
        "id": "view-in-github",
        "colab_type": "text"
      },
      "source": [
        "<a href=\"https://colab.research.google.com/github/FraPet/petriglia-nlp/blob/main/trascrizione_whisper_no_diarizzazione.ipynb\" target=\"_parent\"><img src=\"https://colab.research.google.com/assets/colab-badge.svg\" alt=\"Open In Colab\"/></a>"
      ]
    },
    {
      "cell_type": "markdown",
      "source": [
        "# Trascrizione da file audio\n",
        "\n",
        "Questo blocco consente di caricare un file audio, indicare manualmente i segmenti temporali da trascrivere (quelli in cui il soggetto sta effettivamente raccontando) e di ottenere un file word con proposte di tag. Questo codice è più complesso rispetto ai precedenti ed è più fragile da utilizzare ma, as usual, se si compilano le celle una alla volta senza saltarne nessuna dovrebbe essere possibile ottenere il file finale senza grosse difficoltà."
      ],
      "metadata": {
        "id": "lqpCCnJJj7VG"
      }
    },
    {
      "cell_type": "markdown",
      "source": [
        "## Preparazione dell'ambiente di programmazione\n",
        "Questa cella serve ad installare componenti necessari all'analisi audio. **Il tempo di esecuzione della cella è di circa 1 minuto** quindi non preoccupatevi se il programma sembra fermo."
      ],
      "metadata": {
        "id": "gCwoMJnxkZc2"
      }
    },
    {
      "cell_type": "code",
      "execution_count": 1,
      "metadata": {
        "id": "r6qz4A1rwbiO"
      },
      "outputs": [],
      "source": [
        "%%capture\n",
        "!pip install git+https://github.com/openai/whisper.git | grep -v 'already satisfied'\n",
        "!pip install pydub | grep -v 'already satisfied'\n",
        "!pip install pyannote.audio | grep -v 'already satisfied'"
      ]
    },
    {
      "cell_type": "markdown",
      "source": [
        "## Caricamento del file audio\n",
        "\n",
        "Questo segmento serve a caricare il file audio nel nostro ambiente di sviluppo"
      ],
      "metadata": {
        "id": "bkkzynU_lB9F"
      }
    },
    {
      "cell_type": "code",
      "source": [
        "from google.colab import drive\n",
        "drive.mount('/content/gdrive')"
      ],
      "metadata": {
        "colab": {
          "base_uri": "https://localhost:8080/"
        },
        "id": "sFfuaMkV20sJ",
        "outputId": "7566e466-f261-4bd3-9213-d8fd9009def5"
      },
      "execution_count": 2,
      "outputs": [
        {
          "output_type": "stream",
          "name": "stdout",
          "text": [
            "Mounted at /content/gdrive\n"
          ]
        }
      ]
    },
    {
      "cell_type": "code",
      "source": [
        "from google.colab import files\n",
        "\n",
        "uploaded = files.upload()\n",
        "\n",
        "for fn in uploaded.keys():\n",
        "  print('User uploaded file \"{name}\" with length {length} bytes'.format(\n",
        "      name=fn, length=len(uploaded[fn])))"
      ],
      "metadata": {
        "id": "0Kz1OAHFlA2X"
      },
      "execution_count": null,
      "outputs": []
    },
    {
      "cell_type": "markdown",
      "source": [
        "Se il file è in formato video utilizzare la prossima cella per estrarre l'audio.  In caso contrario passare direttamente alla successiva e sostituire il PATH con quello da analizzare."
      ],
      "metadata": {
        "id": "YuATuF7Y2TJ-"
      }
    },
    {
      "cell_type": "code",
      "source": [
        "import os, shutil\n",
        "import moviepy.editor as mp\n",
        "\n",
        "path_video = ['/content/gdrive/Shareddrives/Progetto Talkidz - Dati audio video/TALKIDZ CLINICI/RussielloG/WIN_20240223_11_03_27_Pro.mp4',\n",
        "              '/content/gdrive/Shareddrives/Progetto Talkidz - Dati audio video/TALKIDZ CLINICI/RussielloG/WIN_20240223_11_24_29_Pro.mp4']\n",
        "\n",
        "\n",
        "for video in path_video:\n",
        "    my_clip = mp.VideoFileClip(video)\n",
        "    nome_file = video.replace(\".mp4\", \"\")\n",
        "    nome_file = nome_file + '.wav'\n",
        "\n",
        "    my_clip.audio.write_audiofile(nome_file)"
      ],
      "metadata": {
        "colab": {
          "base_uri": "https://localhost:8080/"
        },
        "id": "-JKuVacG2SGt",
        "outputId": "f7b4195d-8995-4ec9-ca4f-b256e0563039"
      },
      "execution_count": 3,
      "outputs": [
        {
          "output_type": "stream",
          "name": "stdout",
          "text": [
            "MoviePy - Writing audio in /content/gdrive/Shareddrives/Progetto Talkidz - Dati audio video/TALKIDZ CLINICI/RussielloG/WIN_20240223_11_03_27_Pro.wav\n"
          ]
        },
        {
          "output_type": "stream",
          "name": "stderr",
          "text": []
        },
        {
          "output_type": "stream",
          "name": "stdout",
          "text": [
            "MoviePy - Done.\n",
            "MoviePy - Writing audio in /content/gdrive/Shareddrives/Progetto Talkidz - Dati audio video/TALKIDZ CLINICI/RussielloG/WIN_20240223_11_24_29_Pro.wav\n"
          ]
        },
        {
          "output_type": "stream",
          "name": "stderr",
          "text": [
            "                                                                     "
          ]
        },
        {
          "output_type": "stream",
          "name": "stdout",
          "text": [
            "MoviePy - Done.\n"
          ]
        },
        {
          "output_type": "stream",
          "name": "stderr",
          "text": [
            "\r"
          ]
        }
      ]
    },
    {
      "cell_type": "code",
      "source": [
        "PATH_CARTELLA = 'content/gdrive/Shareddrives/Progetto Logo_Polito/PROGETTO LOGO_POLITO/VIDEO PROGETTO SOFTWARE/script_dati/trascrizione Whisper Open AI'\n",
        "#PATH_WAV = '/content/gdrive/Shareddrives/Progetto Logo_Polito/PROGETTO LOGO_POLITO/VIDEO PROGETTO SOFTWARE/script_dati/trascrizione Whisper Open AI/ridotto.wav'\n",
        "PATH_WAV = []\n",
        "path_video = '/content/gdrive/Shareddrives/Progetto Talkidz - Dati audio video/TALKIDZ CLINICI/RussielloG'\n",
        "for audio in os.listdir(path_video):\n",
        "    if audio.endswith(\".wav\"):\n",
        "#        audio = audio.replace('.mp4', '.wav')\n",
        "        PATH_WAV.append(audio)\n",
        "\n",
        "print(PATH_WAV)"
      ],
      "metadata": {
        "id": "PEWZN2L_3wfQ",
        "colab": {
          "base_uri": "https://localhost:8080/"
        },
        "outputId": "6ed59ff0-aded-48e4-e712-0f3e1db49286"
      },
      "execution_count": 4,
      "outputs": [
        {
          "output_type": "stream",
          "name": "stdout",
          "text": [
            "['WIN_20240223_11_03_27_Pro.wav', 'WIN_20240223_11_24_29_Pro.wav']\n"
          ]
        }
      ]
    },
    {
      "cell_type": "markdown",
      "source": [
        "Questo script prende in considerazione la cartella che contiene i singoli segmenti estratti dalla diarizzazione. La qualità della trascrizione sembra calare notevolmente rispetto all'analisi dell'intero segmento non diarizzato. I timestamp vanno inoltre riorganizzati perché qui ogni segment ricomincia da 0.\n",
        "\n",
        "Nel blocco successivo c'è l'alternativa con l'analisi dell'intero segmento."
      ],
      "metadata": {
        "id": "uKt9axOwKy_q"
      }
    },
    {
      "cell_type": "code",
      "source": [
        "import whisper\n",
        "from pydub import AudioSegment\n",
        "import os"
      ],
      "metadata": {
        "id": "MjlKgvCOwxuJ"
      },
      "execution_count": 5,
      "outputs": []
    },
    {
      "cell_type": "code",
      "source": [
        "import torch\n",
        "torch.cuda.empty_cache()"
      ],
      "metadata": {
        "id": "pN7XMLpQLc6U"
      },
      "execution_count": 6,
      "outputs": []
    },
    {
      "cell_type": "markdown",
      "source": [
        "Provo ad utilizzare il modello large (2.88 GB), si scarica solo la prima volta che si avvia il codice\n"
      ],
      "metadata": {
        "id": "dJu_HsrCOlOE"
      }
    },
    {
      "cell_type": "code",
      "source": [
        "model = whisper.load_model(\"large\")"
      ],
      "metadata": {
        "id": "tRH1SjqxI3zL",
        "colab": {
          "base_uri": "https://localhost:8080/"
        },
        "outputId": "a5de1b9e-174a-4dfd-c345-03fcc99ccac1"
      },
      "execution_count": 7,
      "outputs": [
        {
          "output_type": "stream",
          "name": "stderr",
          "text": [
            "100%|█████████████████████████████████████| 2.88G/2.88G [00:48<00:00, 63.6MiB/s]\n"
          ]
        }
      ]
    },
    {
      "cell_type": "code",
      "source": [
        "#segmenti = os.listdir('/content/gdrive/Shareddrives/Progetto Logo_Polito/PROGETTO LOGO_POLITO/VIDEO PROGETTO SOFTWARE/script_dati/trascrizione Whisper Open AI/diarization_files/ridotto')\n",
        "trascrizione = ''\n",
        "for audio in PATH_WAV:\n",
        "    complete_path = f\"{path_video}/{audio}\"\n",
        "    result = model.transcribe(complete_path, language=\"it\")\n",
        "    for element in result.items():\n",
        "        print(element)\n",
        "\n",
        "    file_ex = open(f\"{os.path.basename(audio)}.txt\", \"w+\", encoding = 'utf-8')\n",
        "\n",
        "    for segment in result['segments']:\n",
        "        start = segment['start']\n",
        "        end = segment['end']\n",
        "        text = segment['text']\n",
        "        trascrizione += f\"{text}. \"\n",
        "\n",
        "    trascrizione = trascrizione.strip()\n",
        "    file_ex.write(trascrizione)\n",
        "'''        if start < 60:\n",
        "            print(f\"{text} ({start} - {end})\")\n",
        "            file_ex.write(f\"{text} ({start} - {end})\\n\")\n",
        "        else:\n",
        "            print(f\"{text} ({round(start/60, 2)} - {round(end/60, 2)})\")\n",
        "            file_ex.write(f\"{text} ({round(start/60, 2)} - {round(end/60, 2)})\\n\")'''\n"
      ],
      "metadata": {
        "id": "adkDRLarLdCL"
      },
      "execution_count": null,
      "outputs": []
    },
    {
      "cell_type": "code",
      "source": [
        "for element in result.items():\n",
        "    print(element)\n",
        "\n",
        "file_ex = open(\"export.txt\", \"w+\", encoding = 'utf-8')\n",
        "\n",
        "for segment in result['segments']:\n",
        "    start = segment['start']\n",
        "    end = segment['end']\n",
        "    text = segment['text']\n",
        "\n",
        "    # if start < 60:\n",
        "    #     print(f\"{text} ({start} - {end})\")\n",
        "    #     file_ex.write(f\"{text} ({start} - {end})\\n\".strip())\n",
        "    # else:\n",
        "    print(f\"{text} ({round(start/60, 2)} - {round(end/60, 2)})\")\n",
        "    file_ex.write(f\"{text} ({round(start/60, 2)} - {round(end/60, 2)})\\n\".strip())"
      ],
      "metadata": {
        "colab": {
          "base_uri": "https://localhost:8080/"
        },
        "id": "oZAmHWyuRs1V",
        "outputId": "2b335094-ab2c-4356-ef18-c5c1912ca345"
      },
      "execution_count": 11,
      "outputs": [
        {
          "output_type": "stream",
          "name": "stdout",
          "text": [
            "('text', \" Pronti, questa l'abbiamo fatta, vuoi vedere la fine? Vuoi vedere l'ultima? Quando arriviamo a questa, abbiamo finito. Ok? Che bella! Ah ah! Pronti, partenza, via! Allora, una mamma è triste con una bambina perché le ha volato via il palloncino. Benissimo! Uno, quello che lavora qui, sta prendendo dei pomodori, invece una bambina sta accarezzando un asinello. Benissimo! Raccontami un altro pezzetto. Hai detto che qua ci sono tantissime cose? Che quello che lavora qui, sta prendendo dei pomodori, nel frattempo ha un ocellino sul palloncino. Bene, sì. Invece, stanno a prendere i regali e la mamma, la mamma le ha trovato un po' pazze e la bambina è felice. Per Natale. Benissimo! C'è un nonno che gli ha lanciato un osso e lui lo vuole mangiare. Benissimo! Poi sono in una... in una... in una... in una pizzeria, un po' gay. E il papà ha preso una pizza margherita, invece il bambino ha preso una piadina. Va bene, va bene. Un panino, forse. Bene. Un idraulico, però, della macchina, sta aggiustando la macchina. Benissimo! Poi loro stanno... una bambina sta disegnando... ...la macchina. E... ...a scuola... ...e... ...un bambino... ...e... ...e... Come viene a te? Sta baciando. Benissimo! Sta baciando, giusto? Sì. Poi un codiglietto sta... sta mangiando, sta prendendo le carache, invece un cavallo... ...dò... ...dò... sta prendendo... ...cosa sono? ...dò... ...sta prendendo un... ...dò... ...insalata? Sì. Salsata. C'è una salsetta anche. C'è una salsetta anche. Poi... ...una bambina sta saltando su una pozzantia... ...nel sottempo che guarda le api... ...invece il gatto sta scappando dalle... il gatto sta scappando dalle api. Io sarei come il gatto. Come il gatto saresti, sì. Che scappa. Poi un elefante che sta prendendo, sta mangiando delle ciliegie. Ma poi uscire il naso o la bocca? Il naso. Sì, il naso. E poi la porta giù giù giù. E finiamo. Poi un bambino che ha trovato un pinguino. Sì, raccontami un altro pezzetto. Il bambino lo sta amicando. Sì, raccontami un altro pezzetto. Il bambino lo sta amicando. Perché ha il piedino pinguino. Una ragazza si sta facendo la doccia. Vuoi raccontarmi un altro? No. Va bene. Una bambina sta andando a mangiare la pecora. E dietro c'è il trenino. E dietro c'è il trenino. Sì. Però... Però... Questo è un biberon. Questo è piccolo. Sì. Poi una ragazza sta... Sta... Sta... Sta mandando fuori il gufo. E il bambino sta aprendo la porta. Benissimo. Quindi uscire. Qua c'è una canna. Sì. Qua c'è una festa di compleanno e una bambina, una bambina un po' più grande di un bambino sta facendo il giro tondo. Poi un bambino sta andando, sono al palco giochi e un bambino sta andando sullo scivolo nel frattempo che uno lo guarda e si lecca le ca. E mangia lecca lecca. Siamo alle ultime. Una bambina sta guardando dei fiori e sta raccogliendo dei fiori. Sì, raccontami un altro pezzetto. E ci sono delle farfalle che girano. Aspetta. Un topo sta mangiando il foglio. Un pompello sta tenendo in piedi una pera. E un pompiere con l'acqua sta togliendo l'incendio dalla moto. Sì. Ah, un bambino sta dormendo e fuori ci sono le stelle. Benissimo. Benissimo. Cosa c'è più? C'è questo più che basta. Ma perché c'erano i più? C'erano i più.\")\n",
            "('segments', [{'id': 0, 'seek': 0, 'start': 0.0, 'end': 8.540000000000001, 'text': \" Pronti, questa l'abbiamo fatta, vuoi vedere la fine? Vuoi vedere l'ultima? Quando arriviamo a questa, abbiamo finito.\", 'tokens': [50365, 2114, 896, 72, 11, 16540, 287, 6, 10797, 7415, 4046, 1328, 11, 9732, 4869, 35373, 635, 2489, 30, 37703, 4869, 35373, 287, 6, 723, 4775, 30, 18725, 30697, 7415, 257, 16540, 11, 22815, 962, 3528, 13, 50792], 'temperature': 0.0, 'avg_logprob': -0.4323212305704753, 'compression_ratio': 1.3170731707317074, 'no_speech_prob': 0.04660623148083687}, {'id': 1, 'seek': 0, 'start': 9.38, 'end': 9.6, 'text': ' Ok?', 'tokens': [50834, 3477, 30, 50845], 'temperature': 0.0, 'avg_logprob': -0.4323212305704753, 'compression_ratio': 1.3170731707317074, 'no_speech_prob': 0.04660623148083687}, {'id': 2, 'seek': 0, 'start': 10.16, 'end': 10.96, 'text': ' Che bella!', 'tokens': [50873, 3351, 312, 3505, 0, 50913], 'temperature': 0.0, 'avg_logprob': -0.4323212305704753, 'compression_ratio': 1.3170731707317074, 'no_speech_prob': 0.04660623148083687}, {'id': 3, 'seek': 0, 'start': 11.28, 'end': 11.64, 'text': ' Ah ah!', 'tokens': [50929, 2438, 3716, 0, 50947], 'temperature': 0.0, 'avg_logprob': -0.4323212305704753, 'compression_ratio': 1.3170731707317074, 'no_speech_prob': 0.04660623148083687}, {'id': 4, 'seek': 0, 'start': 19.36, 'end': 22.38, 'text': ' Pronti, partenza, via!', 'tokens': [51333, 2114, 896, 72, 11, 644, 23691, 11, 5766, 0, 51484], 'temperature': 0.0, 'avg_logprob': -0.4323212305704753, 'compression_ratio': 1.3170731707317074, 'no_speech_prob': 0.04660623148083687}, {'id': 5, 'seek': 2238, 'start': 22.38, 'end': 32.28, 'text': ' Allora, una mamma è triste con una bambina perché le ha volato via il palloncino.', 'tokens': [50365, 1057, 3252, 11, 2002, 13524, 1696, 4873, 33526, 416, 2002, 272, 2173, 1426, 14303, 476, 324, 1996, 2513, 5766, 1930, 24075, 266, 66, 2982, 13, 50860], 'temperature': 0.0, 'avg_logprob': -0.21016339221632624, 'compression_ratio': 1.4457831325301205, 'no_speech_prob': 0.007222029846161604}, {'id': 6, 'seek': 2238, 'start': 33.239999999999995, 'end': 33.86, 'text': ' Benissimo!', 'tokens': [50908, 3964, 34966, 0, 50939], 'temperature': 0.0, 'avg_logprob': -0.21016339221632624, 'compression_ratio': 1.4457831325301205, 'no_speech_prob': 0.007222029846161604}, {'id': 7, 'seek': 2238, 'start': 37.86, 'end': 50.26, 'text': ' Uno, quello che lavora qui, sta prendendo dei pomodori, invece una bambina sta accarezzando un asinello.', 'tokens': [51139, 37468, 11, 22813, 947, 20923, 3252, 1956, 11, 11135, 9866, 3999, 13874, 12991, 378, 7386, 11, 36344, 2002, 272, 2173, 1426, 11135, 696, 5685, 4313, 1806, 517, 382, 533, 1913, 13, 51759], 'temperature': 0.0, 'avg_logprob': -0.21016339221632624, 'compression_ratio': 1.4457831325301205, 'no_speech_prob': 0.007222029846161604}, {'id': 8, 'seek': 2238, 'start': 50.9, 'end': 51.379999999999995, 'text': ' Benissimo!', 'tokens': [51791, 3964, 34966, 0, 51815], 'temperature': 0.0, 'avg_logprob': -0.21016339221632624, 'compression_ratio': 1.4457831325301205, 'no_speech_prob': 0.007222029846161604}, {'id': 9, 'seek': 2238, 'start': 51.519999999999996, 'end': 52.36, 'text': ' Raccontami un altro pezzetto.', 'tokens': [51822, 497, 8476, 896, 4526, 517, 40924, 520, 4313, 23778, 13, 51864], 'temperature': 0.0, 'avg_logprob': -0.21016339221632624, 'compression_ratio': 1.4457831325301205, 'no_speech_prob': 0.007222029846161604}, {'id': 10, 'seek': 5238, 'start': 52.38, 'end': 54.080000000000005, 'text': ' Hai detto che qua ci sono tantissime cose?', 'tokens': [50365, 24055, 41031, 947, 24159, 6983, 9259, 12095, 891, 1312, 30261, 30, 50450], 'temperature': 0.0, 'avg_logprob': -0.2485659609558762, 'compression_ratio': 1.4207650273224044, 'no_speech_prob': 0.002691563218832016}, {'id': 11, 'seek': 5238, 'start': 54.540000000000006, 'end': 63.6, 'text': ' Che quello che lavora qui, sta prendendo dei pomodori, nel frattempo ha un ocellino sul palloncino.', 'tokens': [50473, 3351, 22813, 947, 20923, 3252, 1956, 11, 11135, 9866, 3999, 13874, 12991, 378, 7386, 11, 15373, 431, 1591, 443, 2259, 324, 517, 277, 4164, 2982, 17603, 24075, 266, 66, 2982, 13, 50926], 'temperature': 0.0, 'avg_logprob': -0.2485659609558762, 'compression_ratio': 1.4207650273224044, 'no_speech_prob': 0.002691563218832016}, {'id': 12, 'seek': 5238, 'start': 64.04, 'end': 64.7, 'text': ' Bene, sì.', 'tokens': [50948, 27702, 11, 49267, 13, 50981], 'temperature': 0.0, 'avg_logprob': -0.2485659609558762, 'compression_ratio': 1.4207650273224044, 'no_speech_prob': 0.002691563218832016}, {'id': 13, 'seek': 5238, 'start': 70.7, 'end': 82.36, 'text': \" Invece, stanno a prendere i regali e la mamma, la mamma le ha trovato un po' pazze e la bambina è felice.\", 'tokens': [51281, 682, 303, 384, 11, 342, 13484, 257, 9866, 323, 741, 1121, 5103, 308, 635, 13524, 1696, 11, 635, 13524, 1696, 476, 324, 35449, 2513, 517, 714, 6, 30032, 1381, 308, 635, 272, 2173, 1426, 4873, 11094, 573, 13, 51864], 'temperature': 0.0, 'avg_logprob': -0.2485659609558762, 'compression_ratio': 1.4207650273224044, 'no_speech_prob': 0.002691563218832016}, {'id': 14, 'seek': 8238, 'start': 82.38, 'end': 84.38, 'text': ' Per Natale.', 'tokens': [50365, 3026, 6821, 1220, 13, 50465], 'temperature': 0.0, 'avg_logprob': -0.44781392620455834, 'compression_ratio': 1.39, 'no_speech_prob': 0.08203280717134476}, {'id': 15, 'seek': 8238, 'start': 84.38, 'end': 86.38, 'text': ' Benissimo!', 'tokens': [50465, 3964, 34966, 0, 50565], 'temperature': 0.0, 'avg_logprob': -0.44781392620455834, 'compression_ratio': 1.39, 'no_speech_prob': 0.08203280717134476}, {'id': 16, 'seek': 8238, 'start': 86.38, 'end': 100.38, 'text': \" C'è un nonno che gli ha lanciato un osso e lui lo vuole mangiare.\", 'tokens': [50565, 383, 6, 1462, 517, 2107, 1771, 947, 17161, 324, 9326, 537, 2513, 517, 3003, 539, 308, 8783, 450, 9732, 4812, 587, 7834, 543, 13, 51265], 'temperature': 0.0, 'avg_logprob': -0.44781392620455834, 'compression_ratio': 1.39, 'no_speech_prob': 0.08203280717134476}, {'id': 17, 'seek': 8238, 'start': 100.38, 'end': 102.38, 'text': ' Benissimo!', 'tokens': [51265, 3964, 34966, 0, 51365], 'temperature': 0.0, 'avg_logprob': -0.44781392620455834, 'compression_ratio': 1.39, 'no_speech_prob': 0.08203280717134476}, {'id': 18, 'seek': 8238, 'start': 102.38, 'end': 108.38, 'text': ' Poi sono in una...', 'tokens': [51365, 430, 4869, 9259, 294, 2002, 485, 51665], 'temperature': 0.0, 'avg_logprob': -0.44781392620455834, 'compression_ratio': 1.39, 'no_speech_prob': 0.08203280717134476}, {'id': 19, 'seek': 8238, 'start': 108.38, 'end': 110.38, 'text': ' in una...', 'tokens': [51665, 294, 2002, 485, 51765], 'temperature': 0.0, 'avg_logprob': -0.44781392620455834, 'compression_ratio': 1.39, 'no_speech_prob': 0.08203280717134476}, {'id': 20, 'seek': 8238, 'start': 110.38, 'end': 111.62, 'text': ' in una...', 'tokens': [51765, 294, 2002, 485, 51827], 'temperature': 0.0, 'avg_logprob': -0.44781392620455834, 'compression_ratio': 1.39, 'no_speech_prob': 0.08203280717134476}, {'id': 21, 'seek': 11162, 'start': 111.62, 'end': 115.78, 'text': \" in una pizzeria, un po' gay.\", 'tokens': [50365, 294, 2002, 280, 590, 4527, 654, 11, 517, 714, 6, 9049, 13, 50573], 'temperature': 0.0, 'avg_logprob': -0.4284553816824248, 'compression_ratio': 1.2991452991452992, 'no_speech_prob': 0.09823349863290787}, {'id': 22, 'seek': 11162, 'start': 117.22, 'end': 130.58, 'text': ' E il papà ha preso una pizza margherita, invece il bambino ha preso una piadina.', 'tokens': [50645, 462, 1930, 5806, 1467, 324, 1183, 78, 2002, 8298, 1849, 70, 511, 2786, 11, 36344, 1930, 272, 2173, 2982, 324, 1183, 78, 2002, 3895, 345, 1426, 13, 51313], 'temperature': 0.0, 'avg_logprob': -0.4284553816824248, 'compression_ratio': 1.2991452991452992, 'no_speech_prob': 0.09823349863290787}, {'id': 23, 'seek': 11162, 'start': 131.16, 'end': 132.6, 'text': ' Va bene, va bene.', 'tokens': [51342, 16822, 2537, 11, 2773, 2537, 13, 51414], 'temperature': 0.0, 'avg_logprob': -0.4284553816824248, 'compression_ratio': 1.2991452991452992, 'no_speech_prob': 0.09823349863290787}, {'id': 24, 'seek': 11162, 'start': 132.62, 'end': 134.64000000000001, 'text': ' Un panino, forse.', 'tokens': [51415, 1156, 2462, 2982, 11, 337, 405, 13, 51516], 'temperature': 0.0, 'avg_logprob': -0.4284553816824248, 'compression_ratio': 1.2991452991452992, 'no_speech_prob': 0.09823349863290787}, {'id': 25, 'seek': 11162, 'start': 134.64000000000001, 'end': 135.02, 'text': ' Bene.', 'tokens': [51516, 27702, 13, 51535], 'temperature': 0.0, 'avg_logprob': -0.4284553816824248, 'compression_ratio': 1.2991452991452992, 'no_speech_prob': 0.09823349863290787}, {'id': 26, 'seek': 13502, 'start': 135.02, 'end': 149.02, 'text': ' Un idraulico, però, della macchina, sta aggiustando la macchina.', 'tokens': [50365, 1156, 4496, 25074, 2789, 11, 12673, 11, 11618, 7912, 339, 1426, 11, 11135, 42254, 381, 1806, 635, 7912, 339, 1426, 13, 51065], 'temperature': 0.0, 'avg_logprob': -0.4413004908068427, 'compression_ratio': 1.3055555555555556, 'no_speech_prob': 0.0006818168330937624}, {'id': 27, 'seek': 13502, 'start': 149.02, 'end': 151.02, 'text': ' Benissimo!', 'tokens': [51065, 3964, 34966, 0, 51165], 'temperature': 0.0, 'avg_logprob': -0.4413004908068427, 'compression_ratio': 1.3055555555555556, 'no_speech_prob': 0.0006818168330937624}, {'id': 28, 'seek': 13502, 'start': 155.02, 'end': 161.02, 'text': ' Poi loro stanno...', 'tokens': [51365, 430, 4869, 28810, 342, 13484, 485, 51665], 'temperature': 0.0, 'avg_logprob': -0.4413004908068427, 'compression_ratio': 1.3055555555555556, 'no_speech_prob': 0.0006818168330937624}, {'id': 29, 'seek': 13502, 'start': 161.02, 'end': 163.02, 'text': ' una bambina sta disegnando...', 'tokens': [51665, 2002, 272, 2173, 1426, 11135, 717, 1146, 77, 1806, 485, 51765], 'temperature': 0.0, 'avg_logprob': -0.4413004908068427, 'compression_ratio': 1.3055555555555556, 'no_speech_prob': 0.0006818168330937624}, {'id': 30, 'seek': 13502, 'start': 163.02, 'end': 164.22, 'text': ' ...la macchina.', 'tokens': [51765, 1097, 875, 7912, 339, 1426, 13, 51825], 'temperature': 0.0, 'avg_logprob': -0.4413004908068427, 'compression_ratio': 1.3055555555555556, 'no_speech_prob': 0.0006818168330937624}, {'id': 31, 'seek': 16422, 'start': 164.22, 'end': 166.22, 'text': ' E...', 'tokens': [50365, 462, 485, 50465], 'temperature': 0.0, 'avg_logprob': -0.3354335007844148, 'compression_ratio': 1.523489932885906, 'no_speech_prob': 0.0014313439605757594}, {'id': 32, 'seek': 16422, 'start': 166.22, 'end': 168.22, 'text': ' ...a scuola...', 'tokens': [50465, 1097, 64, 795, 84, 4711, 485, 50565], 'temperature': 0.0, 'avg_logprob': -0.3354335007844148, 'compression_ratio': 1.523489932885906, 'no_speech_prob': 0.0014313439605757594}, {'id': 33, 'seek': 16422, 'start': 168.22, 'end': 170.22, 'text': ' ...e...', 'tokens': [50565, 1097, 68, 485, 50665], 'temperature': 0.0, 'avg_logprob': -0.3354335007844148, 'compression_ratio': 1.523489932885906, 'no_speech_prob': 0.0014313439605757594}, {'id': 34, 'seek': 16422, 'start': 170.22, 'end': 172.22, 'text': ' ...un bambino...', 'tokens': [50665, 1097, 409, 272, 2173, 2982, 485, 50765], 'temperature': 0.0, 'avg_logprob': -0.3354335007844148, 'compression_ratio': 1.523489932885906, 'no_speech_prob': 0.0014313439605757594}, {'id': 35, 'seek': 16422, 'start': 172.22, 'end': 174.22, 'text': ' ...e...', 'tokens': [50765, 1097, 68, 485, 50865], 'temperature': 0.0, 'avg_logprob': -0.3354335007844148, 'compression_ratio': 1.523489932885906, 'no_speech_prob': 0.0014313439605757594}, {'id': 36, 'seek': 16422, 'start': 174.22, 'end': 176.22, 'text': ' ...e...', 'tokens': [50865, 1097, 68, 485, 50965], 'temperature': 0.0, 'avg_logprob': -0.3354335007844148, 'compression_ratio': 1.523489932885906, 'no_speech_prob': 0.0014313439605757594}, {'id': 37, 'seek': 16422, 'start': 176.22, 'end': 178.22, 'text': ' Come viene a te?', 'tokens': [50965, 2492, 19561, 257, 535, 30, 51065], 'temperature': 0.0, 'avg_logprob': -0.3354335007844148, 'compression_ratio': 1.523489932885906, 'no_speech_prob': 0.0014313439605757594}, {'id': 38, 'seek': 16422, 'start': 178.22, 'end': 180.22, 'text': ' Sta baciando.', 'tokens': [51065, 16959, 6857, 72, 1806, 13, 51165], 'temperature': 0.0, 'avg_logprob': -0.3354335007844148, 'compression_ratio': 1.523489932885906, 'no_speech_prob': 0.0014313439605757594}, {'id': 39, 'seek': 16422, 'start': 180.22, 'end': 182.22, 'text': ' Benissimo!', 'tokens': [51165, 3964, 34966, 0, 51265], 'temperature': 0.0, 'avg_logprob': -0.3354335007844148, 'compression_ratio': 1.523489932885906, 'no_speech_prob': 0.0014313439605757594}, {'id': 40, 'seek': 16422, 'start': 184.22, 'end': 185.22, 'text': ' Sta baciando, giusto?', 'tokens': [51365, 16959, 6857, 72, 1806, 11, 1735, 48260, 30, 51415], 'temperature': 0.0, 'avg_logprob': -0.3354335007844148, 'compression_ratio': 1.523489932885906, 'no_speech_prob': 0.0014313439605757594}, {'id': 41, 'seek': 16422, 'start': 185.22, 'end': 186.22, 'text': ' Sì.', 'tokens': [51415, 318, 4749, 13, 51465], 'temperature': 0.0, 'avg_logprob': -0.3354335007844148, 'compression_ratio': 1.523489932885906, 'no_speech_prob': 0.0014313439605757594}, {'id': 42, 'seek': 16422, 'start': 186.22, 'end': 189.22, 'text': ' Poi un codiglietto sta...', 'tokens': [51465, 430, 4869, 517, 17656, 328, 75, 1684, 1353, 11135, 485, 51615], 'temperature': 0.0, 'avg_logprob': -0.3354335007844148, 'compression_ratio': 1.523489932885906, 'no_speech_prob': 0.0014313439605757594}, {'id': 43, 'seek': 16422, 'start': 189.22, 'end': 192.22, 'text': ' sta mangiando, sta prendendo le carache, invece un cavallo...', 'tokens': [51615, 11135, 587, 7834, 1806, 11, 11135, 9866, 3999, 476, 1032, 6000, 11, 36344, 517, 13971, 37104, 485, 51765], 'temperature': 0.0, 'avg_logprob': -0.3354335007844148, 'compression_ratio': 1.523489932885906, 'no_speech_prob': 0.0014313439605757594}, {'id': 44, 'seek': 16422, 'start': 192.22, 'end': 193.22, 'text': ' ...dò...', 'tokens': [51765, 1097, 67, 4293, 485, 51815], 'temperature': 0.0, 'avg_logprob': -0.3354335007844148, 'compression_ratio': 1.523489932885906, 'no_speech_prob': 0.0014313439605757594}, {'id': 45, 'seek': 19322, 'start': 193.22, 'end': 194.22, 'text': ' ...dò...', 'tokens': [50365, 1097, 67, 4293, 485, 50415], 'temperature': 0.6, 'avg_logprob': -0.4429823747321741, 'compression_ratio': 1.699421965317919, 'no_speech_prob': 0.0004690435598604381}, {'id': 46, 'seek': 19322, 'start': 194.22, 'end': 197.22, 'text': ' sta prendendo...', 'tokens': [50415, 11135, 9866, 3999, 485, 50565], 'temperature': 0.6, 'avg_logprob': -0.4429823747321741, 'compression_ratio': 1.699421965317919, 'no_speech_prob': 0.0004690435598604381}, {'id': 47, 'seek': 19322, 'start': 197.22, 'end': 199.22, 'text': ' ...cosa sono?', 'tokens': [50565, 1097, 66, 6447, 9259, 30, 50665], 'temperature': 0.6, 'avg_logprob': -0.4429823747321741, 'compression_ratio': 1.699421965317919, 'no_speech_prob': 0.0004690435598604381}, {'id': 48, 'seek': 19322, 'start': 199.22, 'end': 200.22, 'text': ' ...dò...', 'tokens': [50665, 1097, 67, 4293, 485, 50715], 'temperature': 0.6, 'avg_logprob': -0.4429823747321741, 'compression_ratio': 1.699421965317919, 'no_speech_prob': 0.0004690435598604381}, {'id': 49, 'seek': 19322, 'start': 200.22, 'end': 201.22, 'text': ' ...sta prendendo un...', 'tokens': [50715, 1097, 9140, 9866, 3999, 517, 485, 50765], 'temperature': 0.6, 'avg_logprob': -0.4429823747321741, 'compression_ratio': 1.699421965317919, 'no_speech_prob': 0.0004690435598604381}, {'id': 50, 'seek': 19322, 'start': 201.22, 'end': 203.22, 'text': ' ...dò...', 'tokens': [50765, 1097, 67, 4293, 485, 50865], 'temperature': 0.6, 'avg_logprob': -0.4429823747321741, 'compression_ratio': 1.699421965317919, 'no_speech_prob': 0.0004690435598604381}, {'id': 51, 'seek': 19322, 'start': 203.22, 'end': 205.22, 'text': ' ...insalata?', 'tokens': [50865, 1097, 1292, 304, 3274, 30, 50965], 'temperature': 0.6, 'avg_logprob': -0.4429823747321741, 'compression_ratio': 1.699421965317919, 'no_speech_prob': 0.0004690435598604381}, {'id': 52, 'seek': 19322, 'start': 205.22, 'end': 206.22, 'text': ' Sì.', 'tokens': [50965, 318, 4749, 13, 51015], 'temperature': 0.6, 'avg_logprob': -0.4429823747321741, 'compression_ratio': 1.699421965317919, 'no_speech_prob': 0.0004690435598604381}, {'id': 53, 'seek': 19322, 'start': 206.22, 'end': 207.22, 'text': ' Salsata.', 'tokens': [51015, 318, 1124, 3274, 13, 51065], 'temperature': 0.6, 'avg_logprob': -0.4429823747321741, 'compression_ratio': 1.699421965317919, 'no_speech_prob': 0.0004690435598604381}, {'id': 54, 'seek': 19322, 'start': 207.22, 'end': 208.22, 'text': \" C'è una salsetta anche.\", 'tokens': [51065, 383, 6, 1462, 2002, 262, 1124, 16593, 11585, 13, 51115], 'temperature': 0.6, 'avg_logprob': -0.4429823747321741, 'compression_ratio': 1.699421965317919, 'no_speech_prob': 0.0004690435598604381}, {'id': 55, 'seek': 19322, 'start': 208.22, 'end': 210.22, 'text': \" C'è una salsetta anche.\", 'tokens': [51115, 383, 6, 1462, 2002, 262, 1124, 16593, 11585, 13, 51215], 'temperature': 0.6, 'avg_logprob': -0.4429823747321741, 'compression_ratio': 1.699421965317919, 'no_speech_prob': 0.0004690435598604381}, {'id': 56, 'seek': 19322, 'start': 213.22, 'end': 215.22, 'text': ' Poi...', 'tokens': [51365, 430, 4869, 485, 51465], 'temperature': 0.6, 'avg_logprob': -0.4429823747321741, 'compression_ratio': 1.699421965317919, 'no_speech_prob': 0.0004690435598604381}, {'id': 57, 'seek': 19322, 'start': 215.22, 'end': 218.22, 'text': ' ...una bambina sta saltando su una pozzantia...', 'tokens': [51465, 1097, 5051, 272, 2173, 1426, 11135, 5139, 1806, 459, 2002, 714, 4313, 394, 654, 485, 51615], 'temperature': 0.6, 'avg_logprob': -0.4429823747321741, 'compression_ratio': 1.699421965317919, 'no_speech_prob': 0.0004690435598604381}, {'id': 58, 'seek': 19322, 'start': 218.22, 'end': 220.22, 'text': ' ...nel sottempo che guarda le api...', 'tokens': [51615, 1097, 6396, 262, 1521, 443, 2259, 947, 6290, 64, 476, 1882, 72, 485, 51715], 'temperature': 0.6, 'avg_logprob': -0.4429823747321741, 'compression_ratio': 1.699421965317919, 'no_speech_prob': 0.0004690435598604381}, {'id': 59, 'seek': 19322, 'start': 220.22, 'end': 221.22, 'text': ' ...invece il gatto sta scappando dalle...', 'tokens': [51715, 1097, 259, 303, 384, 1930, 290, 37491, 11135, 4216, 427, 1806, 274, 11780, 485, 51765], 'temperature': 0.6, 'avg_logprob': -0.4429823747321741, 'compression_ratio': 1.699421965317919, 'no_speech_prob': 0.0004690435598604381}, {'id': 60, 'seek': 22122, 'start': 221.22, 'end': 230.32, 'text': ' il gatto sta scappando dalle api. Io sarei come il gatto. Come il gatto saresti, sì. Che scappa.', 'tokens': [50365, 1930, 290, 37491, 11135, 4216, 427, 1806, 274, 11780, 1882, 72, 13, 19239, 38706, 72, 808, 1930, 290, 37491, 13, 2492, 1930, 290, 37491, 262, 17363, 72, 11, 49267, 13, 3351, 4216, 34827, 13, 50820], 'temperature': 0.0, 'avg_logprob': -0.334445484348985, 'compression_ratio': 1.3728813559322033, 'no_speech_prob': 0.18783046305179596}, {'id': 61, 'seek': 22122, 'start': 230.32, 'end': 242.07999999999998, 'text': ' Poi un elefante che sta prendendo, sta mangiando delle ciliegie.', 'tokens': [50820, 430, 4869, 517, 1118, 69, 2879, 947, 11135, 9866, 3999, 11, 11135, 587, 7834, 1806, 16485, 269, 388, 414, 9997, 13, 51408], 'temperature': 0.0, 'avg_logprob': -0.334445484348985, 'compression_ratio': 1.3728813559322033, 'no_speech_prob': 0.18783046305179596}, {'id': 62, 'seek': 24208, 'start': 242.08, 'end': 254.88000000000002, 'text': ' Ma poi uscire il naso o la bocca? Il naso. Sì, il naso. E poi la porta giù giù giù. E finiamo.', 'tokens': [50365, 4042, 19260, 505, 537, 265, 1930, 5382, 78, 277, 635, 748, 22394, 30, 4416, 5382, 78, 13, 318, 4749, 11, 1930, 5382, 78, 13, 462, 19260, 635, 28598, 1735, 5035, 1735, 5035, 1735, 5035, 13, 462, 962, 7415, 13, 51005], 'temperature': 0.0, 'avg_logprob': -0.38296401977539063, 'compression_ratio': 1.604026845637584, 'no_speech_prob': 0.00045102849253453314}, {'id': 63, 'seek': 24208, 'start': 254.88000000000002, 'end': 264.92, 'text': ' Poi un bambino che ha trovato un pinguino.', 'tokens': [51005, 430, 4869, 517, 272, 2173, 2982, 947, 324, 35449, 2513, 517, 280, 7050, 2982, 13, 51507], 'temperature': 0.0, 'avg_logprob': -0.38296401977539063, 'compression_ratio': 1.604026845637584, 'no_speech_prob': 0.00045102849253453314}, {'id': 64, 'seek': 24208, 'start': 264.92, 'end': 268.52000000000004, 'text': ' Sì, raccontami un altro pezzetto.', 'tokens': [51507, 318, 4749, 11, 4129, 9000, 4526, 517, 40924, 520, 4313, 23778, 13, 51687], 'temperature': 0.0, 'avg_logprob': -0.38296401977539063, 'compression_ratio': 1.604026845637584, 'no_speech_prob': 0.00045102849253453314}, {'id': 65, 'seek': 24208, 'start': 268.52000000000004, 'end': 272.04, 'text': ' Il bambino lo sta amicando.', 'tokens': [51687, 4416, 272, 2173, 2982, 450, 11135, 669, 299, 1806, 13, 51863], 'temperature': 0.0, 'avg_logprob': -0.38296401977539063, 'compression_ratio': 1.604026845637584, 'no_speech_prob': 0.00045102849253453314}, {'id': 66, 'seek': 24208, 'start': 272.04, 'end': 272.06, 'text': ' Sì, raccontami un altro pezzetto.', 'tokens': [51863, 318, 4749, 11, 4129, 9000, 4526, 517, 40924, 520, 4313, 23778, 13, 51864], 'temperature': 0.0, 'avg_logprob': -0.38296401977539063, 'compression_ratio': 1.604026845637584, 'no_speech_prob': 0.00045102849253453314}, {'id': 67, 'seek': 27206, 'start': 272.06, 'end': 272.52, 'text': ' Il bambino lo sta amicando.', 'tokens': [50365, 4416, 272, 2173, 2982, 450, 11135, 669, 299, 1806, 13, 50388], 'temperature': 0.0, 'avg_logprob': -0.45976699829101564, 'compression_ratio': 1.3357664233576643, 'no_speech_prob': 0.0007352659595198929}, {'id': 68, 'seek': 27206, 'start': 274.28000000000003, 'end': 276.74, 'text': ' Perché ha il piedino pinguino.', 'tokens': [50476, 47978, 324, 1930, 24186, 2982, 280, 7050, 2982, 13, 50599], 'temperature': 0.0, 'avg_logprob': -0.45976699829101564, 'compression_ratio': 1.3357664233576643, 'no_speech_prob': 0.0007352659595198929}, {'id': 69, 'seek': 27206, 'start': 277.8, 'end': 287.58, 'text': ' Una ragazza si sta facendo la doccia.', 'tokens': [50652, 15491, 17539, 921, 2394, 1511, 11135, 1915, 3999, 635, 3211, 2755, 13, 51141], 'temperature': 0.0, 'avg_logprob': -0.45976699829101564, 'compression_ratio': 1.3357664233576643, 'no_speech_prob': 0.0007352659595198929}, {'id': 70, 'seek': 27206, 'start': 289.52, 'end': 290.54, 'text': ' Vuoi raccontarmi un altro?', 'tokens': [51238, 37703, 4869, 4129, 9000, 289, 3057, 517, 40924, 30, 51289], 'temperature': 0.0, 'avg_logprob': -0.45976699829101564, 'compression_ratio': 1.3357664233576643, 'no_speech_prob': 0.0007352659595198929}, {'id': 71, 'seek': 27206, 'start': 291.5, 'end': 291.98, 'text': ' No.', 'tokens': [51337, 883, 13, 51361], 'temperature': 0.0, 'avg_logprob': -0.45976699829101564, 'compression_ratio': 1.3357664233576643, 'no_speech_prob': 0.0007352659595198929}, {'id': 72, 'seek': 27206, 'start': 291.98, 'end': 293.68, 'text': ' Va bene.', 'tokens': [51361, 16822, 2537, 13, 51446], 'temperature': 0.0, 'avg_logprob': -0.45976699829101564, 'compression_ratio': 1.3357664233576643, 'no_speech_prob': 0.0007352659595198929}, {'id': 73, 'seek': 27206, 'start': 296.74, 'end': 301.86, 'text': ' Una bambina sta andando a mangiare la pecora.', 'tokens': [51599, 15491, 272, 2173, 1426, 11135, 293, 1806, 257, 587, 7834, 543, 635, 42451, 3252, 13, 51855], 'temperature': 0.0, 'avg_logprob': -0.45976699829101564, 'compression_ratio': 1.3357664233576643, 'no_speech_prob': 0.0007352659595198929}, {'id': 74, 'seek': 30206, 'start': 302.06, 'end': 303.92, 'text': \" E dietro c'è il trenino.\", 'tokens': [50365, 462, 6339, 340, 269, 6, 1462, 1930, 23136, 2982, 13, 50458], 'temperature': 0.8, 'avg_logprob': -0.9087040240948017, 'compression_ratio': 1.6325301204819278, 'no_speech_prob': 0.0018658695043995976}, {'id': 75, 'seek': 30206, 'start': 303.92, 'end': 306.48, 'text': \" E dietro c'è il trenino.\", 'tokens': [50458, 462, 6339, 340, 269, 6, 1462, 1930, 23136, 2982, 13, 50586], 'temperature': 0.8, 'avg_logprob': -0.9087040240948017, 'compression_ratio': 1.6325301204819278, 'no_speech_prob': 0.0018658695043995976}, {'id': 76, 'seek': 30206, 'start': 306.48, 'end': 306.98, 'text': ' Sì.', 'tokens': [50586, 318, 4749, 13, 50611], 'temperature': 0.8, 'avg_logprob': -0.9087040240948017, 'compression_ratio': 1.6325301204819278, 'no_speech_prob': 0.0018658695043995976}, {'id': 77, 'seek': 30206, 'start': 306.98, 'end': 307.44, 'text': ' Però...', 'tokens': [50611, 20533, 485, 50634], 'temperature': 0.8, 'avg_logprob': -0.9087040240948017, 'compression_ratio': 1.6325301204819278, 'no_speech_prob': 0.0018658695043995976}, {'id': 78, 'seek': 30206, 'start': 307.44, 'end': 308.86, 'text': ' Però...', 'tokens': [50634, 20533, 485, 50705], 'temperature': 0.8, 'avg_logprob': -0.9087040240948017, 'compression_ratio': 1.6325301204819278, 'no_speech_prob': 0.0018658695043995976}, {'id': 79, 'seek': 30206, 'start': 308.86, 'end': 309.82, 'text': ' Questo è un biberon.', 'tokens': [50705, 38167, 4873, 517, 3228, 607, 266, 13, 50753], 'temperature': 0.8, 'avg_logprob': -0.9087040240948017, 'compression_ratio': 1.6325301204819278, 'no_speech_prob': 0.0018658695043995976}, {'id': 80, 'seek': 30206, 'start': 309.82, 'end': 311.52, 'text': ' Questo è piccolo.', 'tokens': [50753, 38167, 4873, 13363, 46086, 13, 50838], 'temperature': 0.8, 'avg_logprob': -0.9087040240948017, 'compression_ratio': 1.6325301204819278, 'no_speech_prob': 0.0018658695043995976}, {'id': 81, 'seek': 30206, 'start': 311.52, 'end': 314.64, 'text': ' Sì.', 'tokens': [50838, 318, 4749, 13, 50994], 'temperature': 0.8, 'avg_logprob': -0.9087040240948017, 'compression_ratio': 1.6325301204819278, 'no_speech_prob': 0.0018658695043995976}, {'id': 82, 'seek': 30206, 'start': 314.64, 'end': 317.68, 'text': ' Poi una ragazza sta...', 'tokens': [50994, 430, 4869, 2002, 17539, 921, 2394, 11135, 485, 51146], 'temperature': 0.8, 'avg_logprob': -0.9087040240948017, 'compression_ratio': 1.6325301204819278, 'no_speech_prob': 0.0018658695043995976}, {'id': 83, 'seek': 30206, 'start': 317.68, 'end': 319.0, 'text': ' Sta...', 'tokens': [51146, 16959, 485, 51212], 'temperature': 0.8, 'avg_logprob': -0.9087040240948017, 'compression_ratio': 1.6325301204819278, 'no_speech_prob': 0.0018658695043995976}, {'id': 84, 'seek': 30206, 'start': 319.0, 'end': 320.0, 'text': ' Sta...', 'tokens': [51212, 16959, 485, 51262], 'temperature': 0.8, 'avg_logprob': -0.9087040240948017, 'compression_ratio': 1.6325301204819278, 'no_speech_prob': 0.0018658695043995976}, {'id': 85, 'seek': 30206, 'start': 320.0, 'end': 323.26, 'text': ' Sta mandando fuori il gufo.', 'tokens': [51262, 16959, 7411, 1806, 8536, 7386, 1930, 695, 16931, 13, 51425], 'temperature': 0.8, 'avg_logprob': -0.9087040240948017, 'compression_ratio': 1.6325301204819278, 'no_speech_prob': 0.0018658695043995976}, {'id': 86, 'seek': 30206, 'start': 323.26, 'end': 326.82, 'text': ' E il bambino sta aprendo la porta.', 'tokens': [51425, 462, 1930, 272, 2173, 2982, 11135, 21003, 78, 635, 28598, 13, 51603], 'temperature': 0.8, 'avg_logprob': -0.9087040240948017, 'compression_ratio': 1.6325301204819278, 'no_speech_prob': 0.0018658695043995976}, {'id': 87, 'seek': 30206, 'start': 326.82, 'end': 328.1, 'text': ' Benissimo.', 'tokens': [51603, 3964, 34966, 13, 51667], 'temperature': 0.8, 'avg_logprob': -0.9087040240948017, 'compression_ratio': 1.6325301204819278, 'no_speech_prob': 0.0018658695043995976}, {'id': 88, 'seek': 30206, 'start': 328.1, 'end': 329.26, 'text': ' Quindi uscire.', 'tokens': [51667, 32534, 505, 537, 265, 13, 51725], 'temperature': 0.8, 'avg_logprob': -0.9087040240948017, 'compression_ratio': 1.6325301204819278, 'no_speech_prob': 0.0018658695043995976}, {'id': 89, 'seek': 30206, 'start': 329.26, 'end': 330.38, 'text': \" Qua c'è una canna.\", 'tokens': [51725, 2326, 64, 269, 6, 1462, 2002, 393, 629, 13, 51781], 'temperature': 0.8, 'avg_logprob': -0.9087040240948017, 'compression_ratio': 1.6325301204819278, 'no_speech_prob': 0.0018658695043995976}, {'id': 90, 'seek': 30206, 'start': 330.38, 'end': 331.42, 'text': ' Sì.', 'tokens': [51781, 318, 4749, 13, 51833], 'temperature': 0.8, 'avg_logprob': -0.9087040240948017, 'compression_ratio': 1.6325301204819278, 'no_speech_prob': 0.0018658695043995976}, {'id': 91, 'seek': 33142, 'start': 331.42, 'end': 342.98, 'text': \" Qua c'è una festa di compleanno e una bambina, una bambina un po' più grande di un bambino sta facendo il giro tondo.\", 'tokens': [50365, 2326, 64, 269, 6, 1462, 2002, 48080, 1026, 44424, 13484, 308, 2002, 272, 2173, 1426, 11, 2002, 272, 2173, 1426, 517, 714, 6, 10589, 8883, 1026, 517, 272, 2173, 2982, 11135, 1915, 3999, 1930, 1735, 340, 256, 27720, 13, 50943], 'temperature': 0.0, 'avg_logprob': -0.21025869581434461, 'compression_ratio': 1.6265822784810127, 'no_speech_prob': 0.045096516609191895}, {'id': 92, 'seek': 33142, 'start': 348.18, 'end': 360.78000000000003, 'text': ' Poi un bambino sta andando, sono al palco giochi e un bambino sta andando sullo scivolo nel frattempo che uno lo guarda e si lecca le ca.', 'tokens': [51203, 430, 4869, 517, 272, 2173, 2982, 11135, 293, 1806, 11, 9259, 419, 3984, 1291, 48508, 8036, 308, 517, 272, 2173, 2982, 11135, 293, 1806, 459, 1913, 2180, 85, 7902, 15373, 431, 1591, 443, 2259, 947, 8526, 450, 6290, 64, 308, 1511, 476, 22394, 476, 1335, 13, 51833], 'temperature': 0.0, 'avg_logprob': -0.21025869581434461, 'compression_ratio': 1.6265822784810127, 'no_speech_prob': 0.045096516609191895}, {'id': 93, 'seek': 36142, 'start': 361.42, 'end': 364.68, 'text': ' E mangia lecca lecca.', 'tokens': [50365, 462, 32432, 654, 476, 22394, 476, 22394, 13, 50528], 'temperature': 0.0, 'avg_logprob': -0.3205237070719401, 'compression_ratio': 1.4379084967320261, 'no_speech_prob': 0.0004839160537812859}, {'id': 94, 'seek': 36142, 'start': 365.36, 'end': 366.54, 'text': ' Siamo alle ultime.', 'tokens': [50562, 318, 7415, 5430, 3725, 1312, 13, 50621], 'temperature': 0.0, 'avg_logprob': -0.3205237070719401, 'compression_ratio': 1.4379084967320261, 'no_speech_prob': 0.0004839160537812859}, {'id': 95, 'seek': 36142, 'start': 367.74, 'end': 375.40000000000003, 'text': ' Una bambina sta guardando dei fiori e sta raccogliendo dei fiori.', 'tokens': [50681, 15491, 272, 2173, 1426, 11135, 6290, 1806, 13874, 283, 1973, 72, 308, 11135, 4129, 66, 664, 75, 7304, 13874, 283, 1973, 72, 13, 51064], 'temperature': 0.0, 'avg_logprob': -0.3205237070719401, 'compression_ratio': 1.4379084967320261, 'no_speech_prob': 0.0004839160537812859}, {'id': 96, 'seek': 36142, 'start': 375.82, 'end': 377.3, 'text': ' Sì, raccontami un altro pezzetto.', 'tokens': [51085, 318, 4749, 11, 4129, 9000, 4526, 517, 40924, 520, 4313, 23778, 13, 51159], 'temperature': 0.0, 'avg_logprob': -0.3205237070719401, 'compression_ratio': 1.4379084967320261, 'no_speech_prob': 0.0004839160537812859}, {'id': 97, 'seek': 36142, 'start': 377.64, 'end': 380.64, 'text': ' E ci sono delle farfalle che girano.', 'tokens': [51176, 462, 6983, 9259, 16485, 1400, 6691, 68, 947, 14703, 3730, 13, 51326], 'temperature': 0.0, 'avg_logprob': -0.3205237070719401, 'compression_ratio': 1.4379084967320261, 'no_speech_prob': 0.0004839160537812859}, {'id': 98, 'seek': 36142, 'start': 383.14, 'end': 383.56, 'text': ' Aspetta.', 'tokens': [51451, 1018, 7275, 1328, 13, 51472], 'temperature': 0.0, 'avg_logprob': -0.3205237070719401, 'compression_ratio': 1.4379084967320261, 'no_speech_prob': 0.0004839160537812859}, {'id': 99, 'seek': 36142, 'start': 387.56, 'end': 391.40000000000003, 'text': ' Un topo sta mangiando il foglio.', 'tokens': [51672, 1156, 1192, 78, 11135, 587, 7834, 1806, 1930, 13648, 19987, 13, 51864], 'temperature': 0.0, 'avg_logprob': -0.3205237070719401, 'compression_ratio': 1.4379084967320261, 'no_speech_prob': 0.0004839160537812859}, {'id': 100, 'seek': 39142, 'start': 391.42, 'end': 395.22, 'text': ' Un pompello sta tenendo in piedi una pera.', 'tokens': [50365, 1156, 12991, 494, 1913, 11135, 2064, 3999, 294, 24186, 72, 2002, 680, 64, 13, 50555], 'temperature': 0.0, 'avg_logprob': -0.36148384639195036, 'compression_ratio': 1.3134328358208955, 'no_speech_prob': 0.0100531205534935}, {'id': 101, 'seek': 39142, 'start': 400.24, 'end': 407.94, 'text': \" E un pompiere con l'acqua sta togliendo l'incendio dalla moto.\", 'tokens': [50806, 462, 517, 44275, 14412, 416, 287, 6, 326, 34787, 11135, 281, 7191, 7304, 287, 6, 4647, 521, 1004, 35566, 42192, 13, 51191], 'temperature': 0.0, 'avg_logprob': -0.36148384639195036, 'compression_ratio': 1.3134328358208955, 'no_speech_prob': 0.0100531205534935}, {'id': 102, 'seek': 39142, 'start': 409.78000000000003, 'end': 410.24, 'text': ' Sì.', 'tokens': [51283, 318, 4749, 13, 51306], 'temperature': 0.0, 'avg_logprob': -0.36148384639195036, 'compression_ratio': 1.3134328358208955, 'no_speech_prob': 0.0100531205534935}, {'id': 103, 'seek': 39142, 'start': 412.12, 'end': 419.26, 'text': ' Ah, un bambino sta dormendo e fuori ci sono le stelle.', 'tokens': [51400, 2438, 11, 517, 272, 2173, 2982, 11135, 12521, 3999, 308, 8536, 7386, 6983, 9259, 476, 342, 4434, 13, 51757], 'temperature': 0.0, 'avg_logprob': -0.36148384639195036, 'compression_ratio': 1.3134328358208955, 'no_speech_prob': 0.0100531205534935}, {'id': 104, 'seek': 39142, 'start': 419.26, 'end': 420.26, 'text': ' Benissimo.', 'tokens': [51757, 3964, 34966, 13, 51807], 'temperature': 0.0, 'avg_logprob': -0.36148384639195036, 'compression_ratio': 1.3134328358208955, 'no_speech_prob': 0.0100531205534935}, {'id': 105, 'seek': 42142, 'start': 421.42, 'end': 421.94, 'text': ' Benissimo.', 'tokens': [50365, 3964, 34966, 13, 50391], 'temperature': 0.2, 'avg_logprob': -0.3336618847317166, 'compression_ratio': 1.1829268292682926, 'no_speech_prob': 0.02809169702231884}, {'id': 106, 'seek': 42142, 'start': 422.76, 'end': 423.44, 'text': \" Cosa c'è più?\", 'tokens': [50432, 383, 6447, 269, 6, 1462, 10589, 30, 50466], 'temperature': 0.2, 'avg_logprob': -0.3336618847317166, 'compression_ratio': 1.1829268292682926, 'no_speech_prob': 0.02809169702231884}, {'id': 107, 'seek': 42142, 'start': 425.1, 'end': 426.58000000000004, 'text': \" C'è questo più che basta.\", 'tokens': [50549, 383, 6, 1462, 10263, 10589, 947, 45282, 13, 50623], 'temperature': 0.2, 'avg_logprob': -0.3336618847317166, 'compression_ratio': 1.1829268292682926, 'no_speech_prob': 0.02809169702231884}, {'id': 108, 'seek': 42142, 'start': 427.3, 'end': 428.96000000000004, 'text': \" Ma perché c'erano i più?\", 'tokens': [50659, 4042, 14303, 269, 6, 260, 3730, 741, 10589, 30, 50742], 'temperature': 0.2, 'avg_logprob': -0.3336618847317166, 'compression_ratio': 1.1829268292682926, 'no_speech_prob': 0.02809169702231884}, {'id': 109, 'seek': 42142, 'start': 429.7, 'end': 430.38, 'text': \" C'erano i più.\", 'tokens': [50779, 383, 6, 260, 3730, 741, 10589, 13, 50813], 'temperature': 0.2, 'avg_logprob': -0.3336618847317166, 'compression_ratio': 1.1829268292682926, 'no_speech_prob': 0.02809169702231884}])\n",
            "('language', 'it')\n",
            " Pronti, questa l'abbiamo fatta, vuoi vedere la fine? Vuoi vedere l'ultima? Quando arriviamo a questa, abbiamo finito. (0.0 - 0.14)\n",
            " Ok? (0.16 - 0.16)\n",
            " Che bella! (0.17 - 0.18)\n",
            " Ah ah! (0.19 - 0.19)\n",
            " Pronti, partenza, via! (0.32 - 0.37)\n",
            " Allora, una mamma è triste con una bambina perché le ha volato via il palloncino. (0.37 - 0.54)\n",
            " Benissimo! (0.55 - 0.56)\n",
            " Uno, quello che lavora qui, sta prendendo dei pomodori, invece una bambina sta accarezzando un asinello. (0.63 - 0.84)\n",
            " Benissimo! (0.85 - 0.86)\n",
            " Raccontami un altro pezzetto. (0.86 - 0.87)\n",
            " Hai detto che qua ci sono tantissime cose? (0.87 - 0.9)\n",
            " Che quello che lavora qui, sta prendendo dei pomodori, nel frattempo ha un ocellino sul palloncino. (0.91 - 1.06)\n",
            " Bene, sì. (1.07 - 1.08)\n",
            " Invece, stanno a prendere i regali e la mamma, la mamma le ha trovato un po' pazze e la bambina è felice. (1.18 - 1.37)\n",
            " Per Natale. (1.37 - 1.41)\n",
            " Benissimo! (1.41 - 1.44)\n",
            " C'è un nonno che gli ha lanciato un osso e lui lo vuole mangiare. (1.44 - 1.67)\n",
            " Benissimo! (1.67 - 1.71)\n",
            " Poi sono in una... (1.71 - 1.81)\n",
            " in una... (1.81 - 1.84)\n",
            " in una... (1.84 - 1.86)\n",
            " in una pizzeria, un po' gay. (1.86 - 1.93)\n",
            " E il papà ha preso una pizza margherita, invece il bambino ha preso una piadina. (1.95 - 2.18)\n",
            " Va bene, va bene. (2.19 - 2.21)\n",
            " Un panino, forse. (2.21 - 2.24)\n",
            " Bene. (2.24 - 2.25)\n",
            " Un idraulico, però, della macchina, sta aggiustando la macchina. (2.25 - 2.48)\n",
            " Benissimo! (2.48 - 2.52)\n",
            " Poi loro stanno... (2.58 - 2.68)\n",
            " una bambina sta disegnando... (2.68 - 2.72)\n",
            " ...la macchina. (2.72 - 2.74)\n",
            " E... (2.74 - 2.77)\n",
            " ...a scuola... (2.77 - 2.8)\n",
            " ...e... (2.8 - 2.84)\n",
            " ...un bambino... (2.84 - 2.87)\n",
            " ...e... (2.87 - 2.9)\n",
            " ...e... (2.9 - 2.94)\n",
            " Come viene a te? (2.94 - 2.97)\n",
            " Sta baciando. (2.97 - 3.0)\n",
            " Benissimo! (3.0 - 3.04)\n",
            " Sta baciando, giusto? (3.07 - 3.09)\n",
            " Sì. (3.09 - 3.1)\n",
            " Poi un codiglietto sta... (3.1 - 3.15)\n",
            " sta mangiando, sta prendendo le carache, invece un cavallo... (3.15 - 3.2)\n",
            " ...dò... (3.2 - 3.22)\n",
            " ...dò... (3.22 - 3.24)\n",
            " sta prendendo... (3.24 - 3.29)\n",
            " ...cosa sono? (3.29 - 3.32)\n",
            " ...dò... (3.32 - 3.34)\n",
            " ...sta prendendo un... (3.34 - 3.35)\n",
            " ...dò... (3.35 - 3.39)\n",
            " ...insalata? (3.39 - 3.42)\n",
            " Sì. (3.42 - 3.44)\n",
            " Salsata. (3.44 - 3.45)\n",
            " C'è una salsetta anche. (3.45 - 3.47)\n",
            " C'è una salsetta anche. (3.47 - 3.5)\n",
            " Poi... (3.55 - 3.59)\n",
            " ...una bambina sta saltando su una pozzantia... (3.59 - 3.64)\n",
            " ...nel sottempo che guarda le api... (3.64 - 3.67)\n",
            " ...invece il gatto sta scappando dalle... (3.67 - 3.69)\n",
            " il gatto sta scappando dalle api. Io sarei come il gatto. Come il gatto saresti, sì. Che scappa. (3.69 - 3.84)\n",
            " Poi un elefante che sta prendendo, sta mangiando delle ciliegie. (3.84 - 4.03)\n",
            " Ma poi uscire il naso o la bocca? Il naso. Sì, il naso. E poi la porta giù giù giù. E finiamo. (4.03 - 4.25)\n",
            " Poi un bambino che ha trovato un pinguino. (4.25 - 4.42)\n",
            " Sì, raccontami un altro pezzetto. (4.42 - 4.48)\n",
            " Il bambino lo sta amicando. (4.48 - 4.53)\n",
            " Sì, raccontami un altro pezzetto. (4.53 - 4.53)\n",
            " Il bambino lo sta amicando. (4.53 - 4.54)\n",
            " Perché ha il piedino pinguino. (4.57 - 4.61)\n",
            " Una ragazza si sta facendo la doccia. (4.63 - 4.79)\n",
            " Vuoi raccontarmi un altro? (4.83 - 4.84)\n",
            " No. (4.86 - 4.87)\n",
            " Va bene. (4.87 - 4.89)\n",
            " Una bambina sta andando a mangiare la pecora. (4.95 - 5.03)\n",
            " E dietro c'è il trenino. (5.03 - 5.07)\n",
            " E dietro c'è il trenino. (5.07 - 5.11)\n",
            " Sì. (5.11 - 5.12)\n",
            " Però... (5.12 - 5.12)\n",
            " Però... (5.12 - 5.15)\n",
            " Questo è un biberon. (5.15 - 5.16)\n",
            " Questo è piccolo. (5.16 - 5.19)\n",
            " Sì. (5.19 - 5.24)\n",
            " Poi una ragazza sta... (5.24 - 5.29)\n",
            " Sta... (5.29 - 5.32)\n",
            " Sta... (5.32 - 5.33)\n",
            " Sta mandando fuori il gufo. (5.33 - 5.39)\n",
            " E il bambino sta aprendo la porta. (5.39 - 5.45)\n",
            " Benissimo. (5.45 - 5.47)\n",
            " Quindi uscire. (5.47 - 5.49)\n",
            " Qua c'è una canna. (5.49 - 5.51)\n",
            " Sì. (5.51 - 5.52)\n",
            " Qua c'è una festa di compleanno e una bambina, una bambina un po' più grande di un bambino sta facendo il giro tondo. (5.52 - 5.72)\n",
            " Poi un bambino sta andando, sono al palco giochi e un bambino sta andando sullo scivolo nel frattempo che uno lo guarda e si lecca le ca. (5.8 - 6.01)\n",
            " E mangia lecca lecca. (6.02 - 6.08)\n",
            " Siamo alle ultime. (6.09 - 6.11)\n",
            " Una bambina sta guardando dei fiori e sta raccogliendo dei fiori. (6.13 - 6.26)\n",
            " Sì, raccontami un altro pezzetto. (6.26 - 6.29)\n",
            " E ci sono delle farfalle che girano. (6.29 - 6.34)\n",
            " Aspetta. (6.39 - 6.39)\n",
            " Un topo sta mangiando il foglio. (6.46 - 6.52)\n",
            " Un pompello sta tenendo in piedi una pera. (6.52 - 6.59)\n",
            " E un pompiere con l'acqua sta togliendo l'incendio dalla moto. (6.67 - 6.8)\n",
            " Sì. (6.83 - 6.84)\n",
            " Ah, un bambino sta dormendo e fuori ci sono le stelle. (6.87 - 6.99)\n",
            " Benissimo. (6.99 - 7.0)\n",
            " Benissimo. (7.02 - 7.03)\n",
            " Cosa c'è più? (7.05 - 7.06)\n",
            " C'è questo più che basta. (7.08 - 7.11)\n",
            " Ma perché c'erano i più? (7.12 - 7.15)\n",
            " C'erano i più. (7.16 - 7.17)\n"
          ]
        }
      ]
    }
  ]
}